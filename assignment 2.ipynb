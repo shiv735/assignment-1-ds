{
 "cells": [
  {
   "cell_type": "markdown",
   "id": "1a9166e3",
   "metadata": {},
   "source": [
    "Ans 1] true and false are the two values of the boolean data type.\n",
    "        \n",
    "   A boolean data type is any data type of true or false value, yes or no value, or on or off.\n",
    "       \n",
    "       \n",
    "       "
   ]
  },
  {
   "cell_type": "raw",
   "id": "695b64ed",
   "metadata": {},
   "source": [
    "Ans 2] Three basic Boolean search commands are  AND, OR and NOT.\n",
    "       AND = searches find all of the search terms. For example, searching on dengue AND malaria AND zika returns only results that contain all three search terms.\n",
    "       OR = searches find one term or the other.\n",
    "       NOT = eliminates items that contain the specified term. "
   ]
  },
  {
   "cell_type": "markdown",
   "id": "af1b90f4",
   "metadata": {},
   "source": [
    "Ans 3] True and True is True.\n",
    "\n",
    "True and False is False.\n",
    "\n",
    "False and True is False.\n",
    "\n",
    "False and False is False.\n",
    "\n",
    "True or True is True.\n",
    "\n",
    "True or False is True.\n",
    "\n",
    "False or True is True.\n",
    "\n",
    "False or False is False.\n",
    "\n",
    "not True is False.\n",
    "\n",
    "not False is True.\n",
    "\n",
    "True is 1 and False is 0\n",
    "Truth Table for AND\n",
    "A B output\n",
    "0 0 0\n",
    "0 1 0\n",
    "1 0 0\n",
    "1 1 1\n",
    "Truth Table for OR\n",
    "A B output\n",
    "0 0 0\n",
    "0 1 1\n",
    "1 0 1\n",
    "1 1 1\n",
    "Truth Table for NOT\n",
    "A output\n",
    "0 1\n",
    "1 0"
   ]
  },
  {
   "cell_type": "markdown",
   "id": "15779c16",
   "metadata": {},
   "source": [
    "Ans 4]"
   ]
  },
  {
   "cell_type": "code",
   "execution_count": 2,
   "id": "9cdbde73",
   "metadata": {},
   "outputs": [
    {
     "name": "stdout",
     "output_type": "stream",
     "text": [
      "False\n"
     ]
    }
   ],
   "source": [
    "print((5 > 4) and (3 == 5))"
   ]
  },
  {
   "cell_type": "code",
   "execution_count": 3,
   "id": "52c50d37",
   "metadata": {},
   "outputs": [
    {
     "name": "stdout",
     "output_type": "stream",
     "text": [
      "False\n"
     ]
    }
   ],
   "source": [
    "print(not (5 > 4))"
   ]
  },
  {
   "cell_type": "code",
   "execution_count": 4,
   "id": "1fa027d0",
   "metadata": {},
   "outputs": [
    {
     "name": "stdout",
     "output_type": "stream",
     "text": [
      "True\n"
     ]
    }
   ],
   "source": [
    "print((5 > 4) or (3 == 5))"
   ]
  },
  {
   "cell_type": "code",
   "execution_count": 5,
   "id": "914c83a3",
   "metadata": {},
   "outputs": [
    {
     "name": "stdout",
     "output_type": "stream",
     "text": [
      "False\n"
     ]
    }
   ],
   "source": [
    "print(not ((5 > 4) or (3 == 5)))"
   ]
  },
  {
   "cell_type": "code",
   "execution_count": 6,
   "id": "a49cb5bf",
   "metadata": {},
   "outputs": [
    {
     "name": "stdout",
     "output_type": "stream",
     "text": [
      "False\n"
     ]
    }
   ],
   "source": [
    "print((True and True) and (True == False))"
   ]
  },
  {
   "cell_type": "code",
   "execution_count": 7,
   "id": "a2e2a1e6",
   "metadata": {},
   "outputs": [
    {
     "name": "stdout",
     "output_type": "stream",
     "text": [
      "True\n"
     ]
    }
   ],
   "source": [
    "print((not False) or (not True))"
   ]
  },
  {
   "cell_type": "markdown",
   "id": "1d53efeb",
   "metadata": {},
   "source": [
    "Ans 5] The six comparision expresions are < , > , <= ,>= , == , =!"
   ]
  },
  {
   "cell_type": "code",
   "execution_count": null,
   "id": "1fabe758",
   "metadata": {},
   "outputs": [],
   "source": [
    "Ans 6] # here we have used assignment operator(=) to assign value of c which is 1"
   ]
  },
  {
   "cell_type": "code",
   "execution_count": 9,
   "id": "a0f5311c",
   "metadata": {},
   "outputs": [],
   "source": [
    "c=1"
   ]
  },
  {
   "cell_type": "code",
   "execution_count": 10,
   "id": "ef50a1f7",
   "metadata": {},
   "outputs": [
    {
     "name": "stdout",
     "output_type": "stream",
     "text": [
      "1\n"
     ]
    }
   ],
   "source": [
    "print(c) # Assignment operator that stores a value in a variable"
   ]
  },
  {
   "cell_type": "code",
   "execution_count": 11,
   "id": "8694e799",
   "metadata": {},
   "outputs": [],
   "source": [
    "      # here we used equal to operator (==) that compares two values and evaluates to a Boolean."
   ]
  },
  {
   "cell_type": "code",
   "execution_count": 15,
   "id": "7466c154",
   "metadata": {},
   "outputs": [
    {
     "name": "stdout",
     "output_type": "stream",
     "text": [
      " the above condition is correct\n"
     ]
    }
   ],
   "source": [
    "if(0==0):\n",
    "    print(\" the above condition is correct\")\n",
    "else:\n",
    "    print( \"the above condition is not correct\")"
   ]
  },
  {
   "cell_type": "markdown",
   "id": "92160233",
   "metadata": {},
   "source": [
    "Ans 7]"
   ]
  },
  {
   "cell_type": "code",
   "execution_count": 17,
   "id": "f64e111b",
   "metadata": {
    "scrolled": true
   },
   "outputs": [
    {
     "name": "stdout",
     "output_type": "stream",
     "text": [
      "ham\n",
      "spam\n",
      "spam\n"
     ]
    }
   ],
   "source": [
    "spam = 0\n",
    "if spam == 10: # block 1\n",
    "    print('eggs')\n",
    "if spam > 5:   # block 2\n",
    "    print('bacon')\n",
    "else:          # block 3\n",
    "    print('ham')\n",
    "    print('spam')\n",
    "    print('spam')\n"
   ]
  },
  {
   "cell_type": "markdown",
   "id": "0b11fb79",
   "metadata": {},
   "source": [
    "Ans 8] "
   ]
  },
  {
   "cell_type": "code",
   "execution_count": 18,
   "id": "76f36f47",
   "metadata": {},
   "outputs": [
    {
     "name": "stdout",
     "output_type": "stream",
     "text": [
      "input a no.  2\n",
      "howdy\n"
     ]
    }
   ],
   "source": [
    "spam= int(input(\"input a no. \" \" \"))\n",
    "if spam == 1:\n",
    "    print(\"hello\")\n",
    "if spam == 2:\n",
    "    print(\"howdy\")\n",
    "else:\n",
    "    print(\"greetings! \")"
   ]
  },
  {
   "cell_type": "markdown",
   "id": "b0be2298",
   "metadata": {},
   "source": [
    "Ans 9] If program is stuck in endless loop we will press ctrl+c."
   ]
  },
  {
   "cell_type": "markdown",
   "id": "903d3148",
   "metadata": {},
   "source": [
    "Ans 10] i will show the difference between break and continue by giveing a example;"
   ]
  },
  {
   "cell_type": "code",
   "execution_count": 23,
   "id": "f73c52ab",
   "metadata": {},
   "outputs": [
    {
     "name": "stdout",
     "output_type": "stream",
     "text": [
      "0\n",
      "1\n",
      "2\n",
      "breaked\n"
     ]
    }
   ],
   "source": [
    "# break\n",
    "for i in range (5):\n",
    "    if (i==3 ):\n",
    "        break\n",
    "    print(i)\n",
    "print(\"breaked\")"
   ]
  },
  {
   "cell_type": "code",
   "execution_count": 24,
   "id": "e6388227",
   "metadata": {},
   "outputs": [
    {
     "name": "stdout",
     "output_type": "stream",
     "text": [
      "0\n",
      "1\n",
      "2\n",
      "4\n"
     ]
    }
   ],
   "source": [
    "# use of cotinue\n",
    "for i in range(5):\n",
    "    if i==3:\n",
    "        continue\n",
    "    print(i)"
   ]
  },
  {
   "cell_type": "markdown",
   "id": "ac33e7b3",
   "metadata": {},
   "source": [
    "Ans 11] "
   ]
  },
  {
   "cell_type": "code",
   "execution_count": 25,
   "id": "c27db587",
   "metadata": {},
   "outputs": [
    {
     "name": "stdout",
     "output_type": "stream",
     "text": [
      "0\n",
      "1\n",
      "2\n",
      "3\n",
      "4\n",
      "5\n",
      "6\n",
      "7\n",
      "8\n",
      "9\n"
     ]
    }
   ],
   "source": [
    "for i in range(10):\n",
    "    print(i)             #The range(10) call ranges from 0 up to (but not including) 10."
   ]
  },
  {
   "cell_type": "code",
   "execution_count": 26,
   "id": "082fdf74",
   "metadata": {},
   "outputs": [
    {
     "name": "stdout",
     "output_type": "stream",
     "text": [
      "0\n",
      "1\n",
      "2\n",
      "3\n",
      "4\n",
      "5\n",
      "6\n",
      "7\n",
      "8\n",
      "9\n"
     ]
    }
   ],
   "source": [
    "for i in range(0,10):\n",
    "    print(i)           # The range(0, 10) tells the loop to start at 0."
   ]
  },
  {
   "cell_type": "code",
   "execution_count": 27,
   "id": "7b13e01a",
   "metadata": {},
   "outputs": [
    {
     "name": "stdout",
     "output_type": "stream",
     "text": [
      "0\n",
      "1\n",
      "2\n",
      "3\n",
      "4\n",
      "5\n",
      "6\n",
      "7\n",
      "8\n",
      "9\n"
     ]
    }
   ],
   "source": [
    "for i in range (0,10,1):\n",
    "    print(i)         #The range(0, 10, 1) tells the loop to increase the variable by 1 on each iteration."
   ]
  },
  {
   "cell_type": "code",
   "execution_count": null,
   "id": "9812ec07",
   "metadata": {},
   "outputs": [],
   "source": [
    "Ans 12] # use a for loop"
   ]
  },
  {
   "cell_type": "code",
   "execution_count": 31,
   "id": "5c57bfce",
   "metadata": {},
   "outputs": [
    {
     "name": "stdout",
     "output_type": "stream",
     "text": [
      "1\n",
      "2\n",
      "3\n",
      "4\n",
      "5\n",
      "6\n",
      "7\n",
      "8\n",
      "9\n",
      "10\n"
     ]
    }
   ],
   "source": [
    "for i in range(1,11):\n",
    "    print(i)"
   ]
  },
  {
   "cell_type": "code",
   "execution_count": 32,
   "id": "153232b6",
   "metadata": {},
   "outputs": [],
   "source": [
    "    # user a while loop"
   ]
  },
  {
   "cell_type": "code",
   "execution_count": 33,
   "id": "88a008d8",
   "metadata": {},
   "outputs": [
    {
     "name": "stdout",
     "output_type": "stream",
     "text": [
      "1\n",
      "2\n",
      "3\n",
      "4\n",
      "5\n",
      "6\n",
      "7\n",
      "8\n",
      "9\n",
      "10\n"
     ]
    }
   ],
   "source": [
    "a=1\n",
    "while a<=10:\n",
    "    print(a)\n",
    "    a=a+1"
   ]
  },
  {
   "cell_type": "code",
   "execution_count": null,
   "id": "d4b4d97b",
   "metadata": {},
   "outputs": [],
   "source": [
    "Ans 13]This function can be called with spam.bacon()."
   ]
  },
  {
   "cell_type": "markdown",
   "id": "10d513f6",
   "metadata": {},
   "source": []
  }
 ],
 "metadata": {
  "kernelspec": {
   "display_name": "Python 3 (ipykernel)",
   "language": "python",
   "name": "python3"
  },
  "language_info": {
   "codemirror_mode": {
    "name": "ipython",
    "version": 3
   },
   "file_extension": ".py",
   "mimetype": "text/x-python",
   "name": "python",
   "nbconvert_exporter": "python",
   "pygments_lexer": "ipython3",
   "version": "3.9.12"
  }
 },
 "nbformat": 4,
 "nbformat_minor": 5
}
