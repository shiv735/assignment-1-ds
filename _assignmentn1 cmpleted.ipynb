{
 "cells": [
  {
   "cell_type": "raw",
   "id": "a00280b4",
   "metadata": {},
   "source": [
    "Ans1]   *= expression\n",
    "      'hello'=value\n",
    "      -87.8  = value\n",
    "          -  = expression\n",
    "          /  = expression\n",
    "          +\t = expression\n",
    "           6 = value\n"
   ]
  },
  {
   "cell_type": "markdown",
   "id": "90e656de",
   "metadata": {},
   "source": [
    "Ans2]   String: String can be written in quotes such.\n",
    "       \"shiva\"  \"data science\".\n",
    "      \n",
    " \n",
    " variable: is nothing but we can store a data just like a enclosed container."
   ]
  },
  {
   "cell_type": "markdown",
   "id": "224df605",
   "metadata": {},
   "source": [
    "Ans3]   List: the list is used for storing multiple data items in a single variable.\n",
    "\n",
    "\n",
    "   Integer: integer can store only numerical values.\n",
    "\n",
    "\n",
    "   Float: float can store only floating values such as 233.33, 22.2, etc.q3]  "
   ]
  },
  {
   "cell_type": "markdown",
   "id": "d6e3cb97",
   "metadata": {},
   "source": [
    "Ans4] Expression is made up of values, containers, and mathematical operators.\n",
    "    example: \n",
    "        a = 10 + 13  and expressions are used to evaluate the values or represent the result on screen."
   ]
  },
  {
   "cell_type": "markdown",
   "id": "c401c75c",
   "metadata": {},
   "source": [
    "Ans5] Expression is made up of values, containers, and mathematical operators. \n",
    "    \n",
    "   The statement is just like a command that a python interpreter executes like print."
   ]
  },
  {
   "cell_type": "markdown",
   "id": "6dd55c9b",
   "metadata": {},
   "source": [
    "Ans6]"
   ]
  },
  {
   "cell_type": "code",
   "execution_count": 2,
   "id": "67c0a30c",
   "metadata": {},
   "outputs": [],
   "source": [
    "bacon=22"
   ]
  },
  {
   "cell_type": "code",
   "execution_count": 3,
   "id": "1c6f8417",
   "metadata": {},
   "outputs": [
    {
     "data": {
      "text/plain": [
       "23"
      ]
     },
     "execution_count": 3,
     "metadata": {},
     "output_type": "execute_result"
    }
   ],
   "source": [
    "bacon+1"
   ]
  },
  {
   "cell_type": "markdown",
   "id": "6756905b",
   "metadata": {},
   "source": [
    "Ans7] "
   ]
  },
  {
   "cell_type": "code",
   "execution_count": 4,
   "id": "ed6b1ee0",
   "metadata": {},
   "outputs": [
    {
     "data": {
      "text/plain": [
       "'spamspamspam'"
      ]
     },
     "execution_count": 4,
     "metadata": {},
     "output_type": "execute_result"
    }
   ],
   "source": [
    "'spam'+'spamspam'"
   ]
  },
  {
   "cell_type": "code",
   "execution_count": 5,
   "id": "be88047d",
   "metadata": {},
   "outputs": [
    {
     "data": {
      "text/plain": [
       "'spamspamspam'"
      ]
     },
     "execution_count": 5,
     "metadata": {},
     "output_type": "execute_result"
    }
   ],
   "source": [
    "'spam'*3"
   ]
  },
  {
   "cell_type": "markdown",
   "id": "794450e7",
   "metadata": {},
   "source": [
    "Ans8] because we can't start giving variable an integer name. if we, we should begin with, a string-like alphabet name then integer. e100 or eggs100 is valid."
   ]
  },
  {
   "cell_type": "markdown",
   "id": "b1cd37ba",
   "metadata": {},
   "source": [
    "ans9] str(), int(), float()."
   ]
  },
  {
   "cell_type": "markdown",
   "id": "09494376",
   "metadata": {},
   "source": [
    "ans10] because 99 is an integer it cannot be concatenated with strings, if we have to concatenate it we need to do typecasting."
   ]
  }
 ],
 "metadata": {
  "kernelspec": {
   "display_name": "Python 3 (ipykernel)",
   "language": "python",
   "name": "python3"
  },
  "language_info": {
   "codemirror_mode": {
    "name": "ipython",
    "version": 3
   },
   "file_extension": ".py",
   "mimetype": "text/x-python",
   "name": "python",
   "nbconvert_exporter": "python",
   "pygments_lexer": "ipython3",
   "version": "3.9.12"
  }
 },
 "nbformat": 4,
 "nbformat_minor": 5
}
